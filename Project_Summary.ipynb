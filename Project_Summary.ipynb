{
 "cells": [
  {
   "cell_type": "markdown",
   "metadata": {},
   "source": [
    "# Demonstration of music streaming service churn prediction project"
   ]
  },
  {
   "cell_type": "markdown",
   "metadata": {},
   "source": [
    "### Motivation"
   ]
  },
  {
   "cell_type": "markdown",
   "metadata": {},
   "source": [
    "* Many products and services are now provided with a subscrition based distribution. \n",
    "* This drives an industry need: Utilization of user behavior to understand and predict user retention.\n",
    "    * Could be used for example to do targeted advertising or revenue prediction"
   ]
  },
  {
   "cell_type": "markdown",
   "metadata": {},
   "source": [
    "### Problem Statement"
   ]
  },
  {
   "cell_type": "markdown",
   "metadata": {},
   "source": [
    "Can user demographics and user log data be utilized to predict whether a user is retained within a given period?"
   ]
  },
  {
   "cell_type": "markdown",
   "metadata": {},
   "source": [
    "### Summary of Key Findings\n",
    "\n",
    "#### From exploratory analysis:\n",
    "\n",
    "1) There are about 14 times more retained users than churned. This population imbalance will be important in model building\n",
    "    \n",
    "2) Churn users are on average younger than retained users (t-test with p-value~1e-134). This may be due causal factors such as lower income status.\n",
    "    \n",
    "3) Retained users are more likely to use auto renew while churn users are more likely to not utilize auto renew.\n",
    "    \n",
    "4) On a log-scale, user activity shows a longer tail for retained users indicating that users with high activity are typically retained. Perhaps a variable transformation would make activity a more useful quantity.\n",
    "    \n",
    "    \n",
    "#### From modeling:\n",
    "1) Currently, model accuracy evaluated via 2-fold cross validation is consistent with the model lumping all users into the retained group.\n",
    "\n",
    "2) The approaches of undersampling majority population and oversampling minority populations do not seem to improve the preliminary model.\n",
    "\n",
    "3) The next step should be the calculation of significantly more features. Currently only 20 features are used to build the models. Furthermore, over halff of the features are demographic and/or features aggregated from user log data.  \n",
    "\n",
    "4) More data was recently made available. Incorporating this may additionally improve the model if population imbalance is less significant in this new data set. "
   ]
  },
  {
   "cell_type": "markdown",
   "metadata": {},
   "source": [
    "### Overview"
   ]
  },
  {
   "cell_type": "markdown",
   "metadata": {},
   "source": [
    "The Document is organized as follows. In Sec. I, I highlight the structure of the dataset. In Sec. II, I provide a demonstration of the preprocessing and feature calculations done using a small subset of the data for demonstration only. In Sec. III, I import the full dataset including features calculated with the demostrated techniques and conduct an exploratory analysis. In Sec. IV I create logistic regression and random forest classification models. A few iterations of the model development are indicated, particularly, a significant population imbalance is found to be present, and will probably be important in a final analysis beyond this rough draft. Finally, in Sec. V, I conclude with a list of items which I think would improve workflow and/or model performance which I will continue to pursue.  "
   ]
  },
  {
   "cell_type": "markdown",
   "metadata": {},
   "source": [
    "# I. The Dataset"
   ]
  },
  {
   "cell_type": "markdown",
   "metadata": {},
   "source": [
    "The problem stated above will be addressed in this notebook utilizing the KKBox Music Prediction Challenge Dataset available at https://www.kaggle.com/c/kkbox-churn-prediction-challenge/data. Properties of the dataset are highlighted below."
   ]
  },
  {
   "cell_type": "markdown",
   "metadata": {},
   "source": [
    "## Structure of train.csv, members.csv, transactions.csv, and user_logs.csv"
   ]
  },
  {
   "cell_type": "markdown",
   "metadata": {},
   "source": [
    "Note that the data have already been preprocessed in other notebooks, so this will merely demo a small example."
   ]
  },
  {
   "cell_type": "code",
   "execution_count": 1,
   "metadata": {},
   "outputs": [],
   "source": [
    "##Load libraries needed for the analysis in this notebook\n",
    "import os.path\n",
    "\n",
    "#Data manipulation libraries\n",
    "import pandas as pd\n",
    "from pandas import DataFrame, Series\n",
    "from datetime import datetime, timedelta\n",
    "import numpy as np\n",
    "import sqlite3 as sq3\n",
    "\n",
    "#For parallelizing user feature calculations \n",
    "#Not really needed in this demo but it speeds things up by about a factor of 2 on real calculation.\n",
    "import multiprocessing\n",
    "from multiprocessing import Pool\n",
    "\n",
    "#Plotting packages\n",
    "import matplotlib.pyplot as plt\n",
    "import matplotlib.patches as mpatches\n",
    "import seaborn\n",
    "from seaborn import heatmap\n",
    "\n",
    "#Machine learning and stats libraries\n",
    "import sklearn\n",
    "from sklearn.linear_model import LogisticRegression\n",
    "from sklearn.ensemble import RandomForestClassifier\n",
    "from sklearn import metrics\n",
    "from sklearn.model_selection import train_test_split\n",
    "from sklearn.metrics import confusion_matrix, roc_curve, auc\n",
    "from scipy import stats"
   ]
  },
  {
   "cell_type": "code",
   "execution_count": 2,
   "metadata": {},
   "outputs": [],
   "source": [
    "##Import a sample of the training and members csv files as pandas dataframes\n",
    "nmax=1e5\n",
    "traindf=pd.read_csv(\"train.csv\",nrows=nmax)\n",
    "memberdf=pd.read_csv(\"members.csv\",nrows=nmax)\n",
    "transactiondf=pd.read_csv(\"transactions.csv\",nrows=nmax)\n",
    "uselogdf=pd.read_csv(\"user_logs.csv\",nrows=nmax)"
   ]
  },
  {
   "cell_type": "markdown",
   "metadata": {},
   "source": [
    "### train.csv \n",
    "is an ~50MB file that has observations with user names and a binary indicator for if the user churns (drops subscription = 1, retained =0). The full dataset has 992931 observations. It is important to note that there is about a 14:1 ratio of retained to churn users in the training set. This imbalance will guide modeling decisions later on."
   ]
  },
  {
   "cell_type": "code",
   "execution_count": 3,
   "metadata": {},
   "outputs": [
    {
     "data": {
      "text/html": [
       "<div>\n",
       "<table border=\"1\" class=\"dataframe\">\n",
       "  <thead>\n",
       "    <tr style=\"text-align: right;\">\n",
       "      <th></th>\n",
       "      <th>msno</th>\n",
       "      <th>is_churn</th>\n",
       "    </tr>\n",
       "  </thead>\n",
       "  <tbody>\n",
       "    <tr>\n",
       "      <th>0</th>\n",
       "      <td>waLDQMmcOu2jLDaV1ddDkgCrB/jl6sD66Xzs0Vqax1Y=</td>\n",
       "      <td>1</td>\n",
       "    </tr>\n",
       "    <tr>\n",
       "      <th>1</th>\n",
       "      <td>QA7uiXy8vIbUSPOkCf9RwQ3FsT8jVq2OxDr8zqa7bRQ=</td>\n",
       "      <td>1</td>\n",
       "    </tr>\n",
       "    <tr>\n",
       "      <th>2</th>\n",
       "      <td>fGwBva6hikQmTJzrbz/2Ezjm5Cth5jZUNvXigKK2AFA=</td>\n",
       "      <td>1</td>\n",
       "    </tr>\n",
       "    <tr>\n",
       "      <th>3</th>\n",
       "      <td>mT5V8rEpa+8wuqi6x0DoVd3H5icMKkE9Prt49UlmK+4=</td>\n",
       "      <td>1</td>\n",
       "    </tr>\n",
       "    <tr>\n",
       "      <th>4</th>\n",
       "      <td>XaPhtGLk/5UvvOYHcONTwsnH97P4eGECeq+BARGItRw=</td>\n",
       "      <td>1</td>\n",
       "    </tr>\n",
       "  </tbody>\n",
       "</table>\n",
       "</div>"
      ],
      "text/plain": [
       "                                           msno  is_churn\n",
       "0  waLDQMmcOu2jLDaV1ddDkgCrB/jl6sD66Xzs0Vqax1Y=         1\n",
       "1  QA7uiXy8vIbUSPOkCf9RwQ3FsT8jVq2OxDr8zqa7bRQ=         1\n",
       "2  fGwBva6hikQmTJzrbz/2Ezjm5Cth5jZUNvXigKK2AFA=         1\n",
       "3  mT5V8rEpa+8wuqi6x0DoVd3H5icMKkE9Prt49UlmK+4=         1\n",
       "4  XaPhtGLk/5UvvOYHcONTwsnH97P4eGECeq+BARGItRw=         1"
      ]
     },
     "execution_count": 3,
     "metadata": {},
     "output_type": "execute_result"
    }
   ],
   "source": [
    "traindf.head(n=5)"
   ]
  },
  {
   "cell_type": "markdown",
   "metadata": {},
   "source": [
    "### members.csv \n",
    "is an ~400MB file that has observations with user names a numerical indicator for the city which that user is from, gender, numerical indicator for registration method, initial registration date, and expiration date. The full dataset has 5116194 records. Note that not all members in train.csv are available even though members.csv has about 5 times more records."
   ]
  },
  {
   "cell_type": "code",
   "execution_count": 4,
   "metadata": {},
   "outputs": [
    {
     "data": {
      "text/html": [
       "<div>\n",
       "<table border=\"1\" class=\"dataframe\">\n",
       "  <thead>\n",
       "    <tr style=\"text-align: right;\">\n",
       "      <th></th>\n",
       "      <th>msno</th>\n",
       "      <th>city</th>\n",
       "      <th>bd</th>\n",
       "      <th>gender</th>\n",
       "      <th>registered_via</th>\n",
       "      <th>registration_init_time</th>\n",
       "      <th>expiration_date</th>\n",
       "    </tr>\n",
       "  </thead>\n",
       "  <tbody>\n",
       "    <tr>\n",
       "      <th>0</th>\n",
       "      <td>URiXrfYPzHAlk+7+n7BOMl9G+T7g8JmrSnT/BU8GmEo=</td>\n",
       "      <td>1</td>\n",
       "      <td>0</td>\n",
       "      <td>NaN</td>\n",
       "      <td>9</td>\n",
       "      <td>20150525</td>\n",
       "      <td>20150526</td>\n",
       "    </tr>\n",
       "    <tr>\n",
       "      <th>1</th>\n",
       "      <td>U1q0qCqK/lDMTD2kN8G9OXMtfuvLCey20OAIPOvXXGQ=</td>\n",
       "      <td>1</td>\n",
       "      <td>0</td>\n",
       "      <td>NaN</td>\n",
       "      <td>4</td>\n",
       "      <td>20161221</td>\n",
       "      <td>20161224</td>\n",
       "    </tr>\n",
       "    <tr>\n",
       "      <th>2</th>\n",
       "      <td>W6M2H2kAoN9ahfDYKo3J6tmsJRAeuFc9wl1cau5VL1Q=</td>\n",
       "      <td>1</td>\n",
       "      <td>0</td>\n",
       "      <td>NaN</td>\n",
       "      <td>4</td>\n",
       "      <td>20160306</td>\n",
       "      <td>20160309</td>\n",
       "    </tr>\n",
       "    <tr>\n",
       "      <th>3</th>\n",
       "      <td>1qE5+cN7CUyC+KFH6gBZzMWmM1QpIVW6A43BEm98I/w=</td>\n",
       "      <td>5</td>\n",
       "      <td>17</td>\n",
       "      <td>female</td>\n",
       "      <td>4</td>\n",
       "      <td>20161031</td>\n",
       "      <td>20161107</td>\n",
       "    </tr>\n",
       "    <tr>\n",
       "      <th>4</th>\n",
       "      <td>SeAnaZPI+tFdAt+r3lZt/B8PgTp7bcG/1os39u4pLxs=</td>\n",
       "      <td>1</td>\n",
       "      <td>0</td>\n",
       "      <td>NaN</td>\n",
       "      <td>4</td>\n",
       "      <td>20170202</td>\n",
       "      <td>20170205</td>\n",
       "    </tr>\n",
       "  </tbody>\n",
       "</table>\n",
       "</div>"
      ],
      "text/plain": [
       "                                           msno  city  bd  gender  \\\n",
       "0  URiXrfYPzHAlk+7+n7BOMl9G+T7g8JmrSnT/BU8GmEo=     1   0     NaN   \n",
       "1  U1q0qCqK/lDMTD2kN8G9OXMtfuvLCey20OAIPOvXXGQ=     1   0     NaN   \n",
       "2  W6M2H2kAoN9ahfDYKo3J6tmsJRAeuFc9wl1cau5VL1Q=     1   0     NaN   \n",
       "3  1qE5+cN7CUyC+KFH6gBZzMWmM1QpIVW6A43BEm98I/w=     5  17  female   \n",
       "4  SeAnaZPI+tFdAt+r3lZt/B8PgTp7bcG/1os39u4pLxs=     1   0     NaN   \n",
       "\n",
       "   registered_via  registration_init_time  expiration_date  \n",
       "0               9                20150525         20150526  \n",
       "1               4                20161221         20161224  \n",
       "2               4                20160306         20160309  \n",
       "3               4                20161031         20161107  \n",
       "4               4                20170202         20170205  "
      ]
     },
     "execution_count": 4,
     "metadata": {},
     "output_type": "execute_result"
    }
   ],
   "source": [
    "memberdf.head(n=5)"
   ]
  },
  {
   "cell_type": "markdown",
   "metadata": {},
   "source": [
    "### transactions.csv \n",
    "is an ~2GB file that has multiple observations for each user of: numerical identifier for payment method, payment plan days, the plan list price, the actual amount paid, whether the user has elected to auto renew, the date for the transaction, membership expiration date, and finally, wheter or not the user cancelled their membership. (This does not necessarily indicate churn. See e.g. Data Extraction Details at https://www.kaggle.com/c/kkbox-churn-prediction-challenge/data.)"
   ]
  },
  {
   "cell_type": "code",
   "execution_count": 5,
   "metadata": {},
   "outputs": [
    {
     "data": {
      "text/html": [
       "<div>\n",
       "<table border=\"1\" class=\"dataframe\">\n",
       "  <thead>\n",
       "    <tr style=\"text-align: right;\">\n",
       "      <th></th>\n",
       "      <th>msno</th>\n",
       "      <th>payment_method_id</th>\n",
       "      <th>payment_plan_days</th>\n",
       "      <th>plan_list_price</th>\n",
       "      <th>actual_amount_paid</th>\n",
       "      <th>is_auto_renew</th>\n",
       "      <th>transaction_date</th>\n",
       "      <th>membership_expire_date</th>\n",
       "      <th>is_cancel</th>\n",
       "    </tr>\n",
       "  </thead>\n",
       "  <tbody>\n",
       "    <tr>\n",
       "      <th>0</th>\n",
       "      <td>YyO+tlZtAXYXoZhNr3Vg3+dfVQvrBVGO8j1mfqe4ZHc=</td>\n",
       "      <td>41</td>\n",
       "      <td>30</td>\n",
       "      <td>129</td>\n",
       "      <td>129</td>\n",
       "      <td>1</td>\n",
       "      <td>20150930</td>\n",
       "      <td>20151101</td>\n",
       "      <td>0</td>\n",
       "    </tr>\n",
       "    <tr>\n",
       "      <th>1</th>\n",
       "      <td>AZtu6Wl0gPojrEQYB8Q3vBSmE2wnZ3hi1FbK1rQQ0A4=</td>\n",
       "      <td>41</td>\n",
       "      <td>30</td>\n",
       "      <td>149</td>\n",
       "      <td>149</td>\n",
       "      <td>1</td>\n",
       "      <td>20150930</td>\n",
       "      <td>20151031</td>\n",
       "      <td>0</td>\n",
       "    </tr>\n",
       "    <tr>\n",
       "      <th>2</th>\n",
       "      <td>UkDFI97Qb6+s2LWcijVVv4rMAsORbVDT2wNXF0aVbns=</td>\n",
       "      <td>41</td>\n",
       "      <td>30</td>\n",
       "      <td>129</td>\n",
       "      <td>129</td>\n",
       "      <td>1</td>\n",
       "      <td>20150930</td>\n",
       "      <td>20160427</td>\n",
       "      <td>0</td>\n",
       "    </tr>\n",
       "    <tr>\n",
       "      <th>3</th>\n",
       "      <td>M1C56ijxozNaGD0t2h68PnH2xtx5iO5iR2MVYQB6nBI=</td>\n",
       "      <td>39</td>\n",
       "      <td>30</td>\n",
       "      <td>149</td>\n",
       "      <td>149</td>\n",
       "      <td>1</td>\n",
       "      <td>20150930</td>\n",
       "      <td>20151128</td>\n",
       "      <td>0</td>\n",
       "    </tr>\n",
       "    <tr>\n",
       "      <th>4</th>\n",
       "      <td>yvj6zyBUaqdbUQSrKsrZ+xNDVM62knauSZJzakS9OW4=</td>\n",
       "      <td>39</td>\n",
       "      <td>30</td>\n",
       "      <td>149</td>\n",
       "      <td>149</td>\n",
       "      <td>1</td>\n",
       "      <td>20150930</td>\n",
       "      <td>20151121</td>\n",
       "      <td>0</td>\n",
       "    </tr>\n",
       "    <tr>\n",
       "      <th>5</th>\n",
       "      <td>KN7I82kjY0Tn76Ny95ncqBUVbO7b8AXrOPqZutKpxIM=</td>\n",
       "      <td>21</td>\n",
       "      <td>30</td>\n",
       "      <td>149</td>\n",
       "      <td>149</td>\n",
       "      <td>1</td>\n",
       "      <td>20150930</td>\n",
       "      <td>20151107</td>\n",
       "      <td>0</td>\n",
       "    </tr>\n",
       "    <tr>\n",
       "      <th>6</th>\n",
       "      <td>m5ptKif9BjdUghHXXomSezy5ohJiHm85PE13f/3kQaw=</td>\n",
       "      <td>39</td>\n",
       "      <td>30</td>\n",
       "      <td>149</td>\n",
       "      <td>149</td>\n",
       "      <td>1</td>\n",
       "      <td>20150930</td>\n",
       "      <td>20151128</td>\n",
       "      <td>0</td>\n",
       "    </tr>\n",
       "    <tr>\n",
       "      <th>7</th>\n",
       "      <td>uQxbyACsPOEkTIrv9jZgoGXelGBW81ZsSZKy9fhj5Z8=</td>\n",
       "      <td>39</td>\n",
       "      <td>30</td>\n",
       "      <td>149</td>\n",
       "      <td>149</td>\n",
       "      <td>1</td>\n",
       "      <td>20150930</td>\n",
       "      <td>20151125</td>\n",
       "      <td>0</td>\n",
       "    </tr>\n",
       "    <tr>\n",
       "      <th>8</th>\n",
       "      <td>LUPRfoE2r3WwVWhYO/TqQhjrL/qP6CO+/ORUlr7yNc0=</td>\n",
       "      <td>39</td>\n",
       "      <td>30</td>\n",
       "      <td>149</td>\n",
       "      <td>149</td>\n",
       "      <td>1</td>\n",
       "      <td>20150930</td>\n",
       "      <td>20151222</td>\n",
       "      <td>0</td>\n",
       "    </tr>\n",
       "    <tr>\n",
       "      <th>9</th>\n",
       "      <td>pMVjPLgVknaJYm9L0xUwxA2jmhpK7gfhGnsmmwX1mrE=</td>\n",
       "      <td>39</td>\n",
       "      <td>30</td>\n",
       "      <td>149</td>\n",
       "      <td>149</td>\n",
       "      <td>1</td>\n",
       "      <td>20150930</td>\n",
       "      <td>20151118</td>\n",
       "      <td>0</td>\n",
       "    </tr>\n",
       "  </tbody>\n",
       "</table>\n",
       "</div>"
      ],
      "text/plain": [
       "                                           msno  payment_method_id  \\\n",
       "0  YyO+tlZtAXYXoZhNr3Vg3+dfVQvrBVGO8j1mfqe4ZHc=                 41   \n",
       "1  AZtu6Wl0gPojrEQYB8Q3vBSmE2wnZ3hi1FbK1rQQ0A4=                 41   \n",
       "2  UkDFI97Qb6+s2LWcijVVv4rMAsORbVDT2wNXF0aVbns=                 41   \n",
       "3  M1C56ijxozNaGD0t2h68PnH2xtx5iO5iR2MVYQB6nBI=                 39   \n",
       "4  yvj6zyBUaqdbUQSrKsrZ+xNDVM62knauSZJzakS9OW4=                 39   \n",
       "5  KN7I82kjY0Tn76Ny95ncqBUVbO7b8AXrOPqZutKpxIM=                 21   \n",
       "6  m5ptKif9BjdUghHXXomSezy5ohJiHm85PE13f/3kQaw=                 39   \n",
       "7  uQxbyACsPOEkTIrv9jZgoGXelGBW81ZsSZKy9fhj5Z8=                 39   \n",
       "8  LUPRfoE2r3WwVWhYO/TqQhjrL/qP6CO+/ORUlr7yNc0=                 39   \n",
       "9  pMVjPLgVknaJYm9L0xUwxA2jmhpK7gfhGnsmmwX1mrE=                 39   \n",
       "\n",
       "   payment_plan_days  plan_list_price  actual_amount_paid  is_auto_renew  \\\n",
       "0                 30              129                 129              1   \n",
       "1                 30              149                 149              1   \n",
       "2                 30              129                 129              1   \n",
       "3                 30              149                 149              1   \n",
       "4                 30              149                 149              1   \n",
       "5                 30              149                 149              1   \n",
       "6                 30              149                 149              1   \n",
       "7                 30              149                 149              1   \n",
       "8                 30              149                 149              1   \n",
       "9                 30              149                 149              1   \n",
       "\n",
       "   transaction_date  membership_expire_date  is_cancel  \n",
       "0          20150930                20151101          0  \n",
       "1          20150930                20151031          0  \n",
       "2          20150930                20160427          0  \n",
       "3          20150930                20151128          0  \n",
       "4          20150930                20151121          0  \n",
       "5          20150930                20151107          0  \n",
       "6          20150930                20151128          0  \n",
       "7          20150930                20151125          0  \n",
       "8          20150930                20151222          0  \n",
       "9          20150930                20151118          0  "
      ]
     },
     "execution_count": 5,
     "metadata": {},
     "output_type": "execute_result"
    }
   ],
   "source": [
    "transactiondf.head(n=10)"
   ]
  },
  {
   "cell_type": "markdown",
   "metadata": {},
   "source": [
    "### user_logs.csv \n",
    "is an ~30GB file that has multiple observations for each user of: the date for which the observation is made, the number of songs where the user listened to between 0% and 25% of the song (num_25),..., the number of songs for which the user listened to between 98.5% and 100% of the song (num_100), the number of unique songs listened to (num_unq), and total amount of time the service was used for the particular day. Note that this file appears sorted by user and by date, but I don't take this for granted in my analysis. It could speed things up, but taking advantage of this would mean more data management for newly available data which was recently made available (not yet analyzed)."
   ]
  },
  {
   "cell_type": "code",
   "execution_count": 6,
   "metadata": {},
   "outputs": [
    {
     "data": {
      "text/html": [
       "<div>\n",
       "<table border=\"1\" class=\"dataframe\">\n",
       "  <thead>\n",
       "    <tr style=\"text-align: right;\">\n",
       "      <th></th>\n",
       "      <th>msno</th>\n",
       "      <th>date</th>\n",
       "      <th>num_25</th>\n",
       "      <th>num_50</th>\n",
       "      <th>num_75</th>\n",
       "      <th>num_985</th>\n",
       "      <th>num_100</th>\n",
       "      <th>num_unq</th>\n",
       "      <th>total_secs</th>\n",
       "    </tr>\n",
       "  </thead>\n",
       "  <tbody>\n",
       "    <tr>\n",
       "      <th>0</th>\n",
       "      <td>rxIP2f2aN0rYNp+toI0Obt/N/FYQX8hcO1fTmmy2h34=</td>\n",
       "      <td>20150513</td>\n",
       "      <td>0</td>\n",
       "      <td>0</td>\n",
       "      <td>0</td>\n",
       "      <td>0</td>\n",
       "      <td>1</td>\n",
       "      <td>1</td>\n",
       "      <td>280.335</td>\n",
       "    </tr>\n",
       "    <tr>\n",
       "      <th>1</th>\n",
       "      <td>rxIP2f2aN0rYNp+toI0Obt/N/FYQX8hcO1fTmmy2h34=</td>\n",
       "      <td>20150709</td>\n",
       "      <td>9</td>\n",
       "      <td>1</td>\n",
       "      <td>0</td>\n",
       "      <td>0</td>\n",
       "      <td>7</td>\n",
       "      <td>11</td>\n",
       "      <td>1658.948</td>\n",
       "    </tr>\n",
       "    <tr>\n",
       "      <th>2</th>\n",
       "      <td>yxiEWwE9VR5utpUecLxVdQ5B7NysUPfrNtGINaM2zA8=</td>\n",
       "      <td>20150105</td>\n",
       "      <td>3</td>\n",
       "      <td>3</td>\n",
       "      <td>0</td>\n",
       "      <td>0</td>\n",
       "      <td>68</td>\n",
       "      <td>36</td>\n",
       "      <td>17364.956</td>\n",
       "    </tr>\n",
       "    <tr>\n",
       "      <th>3</th>\n",
       "      <td>yxiEWwE9VR5utpUecLxVdQ5B7NysUPfrNtGINaM2zA8=</td>\n",
       "      <td>20150306</td>\n",
       "      <td>1</td>\n",
       "      <td>0</td>\n",
       "      <td>1</td>\n",
       "      <td>1</td>\n",
       "      <td>97</td>\n",
       "      <td>27</td>\n",
       "      <td>24667.317</td>\n",
       "    </tr>\n",
       "    <tr>\n",
       "      <th>4</th>\n",
       "      <td>yxiEWwE9VR5utpUecLxVdQ5B7NysUPfrNtGINaM2zA8=</td>\n",
       "      <td>20150501</td>\n",
       "      <td>3</td>\n",
       "      <td>0</td>\n",
       "      <td>0</td>\n",
       "      <td>0</td>\n",
       "      <td>38</td>\n",
       "      <td>38</td>\n",
       "      <td>9649.029</td>\n",
       "    </tr>\n",
       "    <tr>\n",
       "      <th>5</th>\n",
       "      <td>yxiEWwE9VR5utpUecLxVdQ5B7NysUPfrNtGINaM2zA8=</td>\n",
       "      <td>20150702</td>\n",
       "      <td>4</td>\n",
       "      <td>0</td>\n",
       "      <td>1</td>\n",
       "      <td>1</td>\n",
       "      <td>33</td>\n",
       "      <td>10</td>\n",
       "      <td>10021.520</td>\n",
       "    </tr>\n",
       "    <tr>\n",
       "      <th>6</th>\n",
       "      <td>yxiEWwE9VR5utpUecLxVdQ5B7NysUPfrNtGINaM2zA8=</td>\n",
       "      <td>20150830</td>\n",
       "      <td>3</td>\n",
       "      <td>1</td>\n",
       "      <td>0</td>\n",
       "      <td>0</td>\n",
       "      <td>4</td>\n",
       "      <td>7</td>\n",
       "      <td>1119.555</td>\n",
       "    </tr>\n",
       "    <tr>\n",
       "      <th>7</th>\n",
       "      <td>yxiEWwE9VR5utpUecLxVdQ5B7NysUPfrNtGINaM2zA8=</td>\n",
       "      <td>20151107</td>\n",
       "      <td>1</td>\n",
       "      <td>0</td>\n",
       "      <td>0</td>\n",
       "      <td>0</td>\n",
       "      <td>4</td>\n",
       "      <td>5</td>\n",
       "      <td>938.022</td>\n",
       "    </tr>\n",
       "    <tr>\n",
       "      <th>8</th>\n",
       "      <td>yxiEWwE9VR5utpUecLxVdQ5B7NysUPfrNtGINaM2zA8=</td>\n",
       "      <td>20160110</td>\n",
       "      <td>2</td>\n",
       "      <td>0</td>\n",
       "      <td>1</td>\n",
       "      <td>0</td>\n",
       "      <td>11</td>\n",
       "      <td>6</td>\n",
       "      <td>3004.068</td>\n",
       "    </tr>\n",
       "    <tr>\n",
       "      <th>9</th>\n",
       "      <td>yxiEWwE9VR5utpUecLxVdQ5B7NysUPfrNtGINaM2zA8=</td>\n",
       "      <td>20160316</td>\n",
       "      <td>9</td>\n",
       "      <td>3</td>\n",
       "      <td>4</td>\n",
       "      <td>1</td>\n",
       "      <td>67</td>\n",
       "      <td>50</td>\n",
       "      <td>18257.661</td>\n",
       "    </tr>\n",
       "  </tbody>\n",
       "</table>\n",
       "</div>"
      ],
      "text/plain": [
       "                                           msno      date  num_25  num_50  \\\n",
       "0  rxIP2f2aN0rYNp+toI0Obt/N/FYQX8hcO1fTmmy2h34=  20150513       0       0   \n",
       "1  rxIP2f2aN0rYNp+toI0Obt/N/FYQX8hcO1fTmmy2h34=  20150709       9       1   \n",
       "2  yxiEWwE9VR5utpUecLxVdQ5B7NysUPfrNtGINaM2zA8=  20150105       3       3   \n",
       "3  yxiEWwE9VR5utpUecLxVdQ5B7NysUPfrNtGINaM2zA8=  20150306       1       0   \n",
       "4  yxiEWwE9VR5utpUecLxVdQ5B7NysUPfrNtGINaM2zA8=  20150501       3       0   \n",
       "5  yxiEWwE9VR5utpUecLxVdQ5B7NysUPfrNtGINaM2zA8=  20150702       4       0   \n",
       "6  yxiEWwE9VR5utpUecLxVdQ5B7NysUPfrNtGINaM2zA8=  20150830       3       1   \n",
       "7  yxiEWwE9VR5utpUecLxVdQ5B7NysUPfrNtGINaM2zA8=  20151107       1       0   \n",
       "8  yxiEWwE9VR5utpUecLxVdQ5B7NysUPfrNtGINaM2zA8=  20160110       2       0   \n",
       "9  yxiEWwE9VR5utpUecLxVdQ5B7NysUPfrNtGINaM2zA8=  20160316       9       3   \n",
       "\n",
       "   num_75  num_985  num_100  num_unq  total_secs  \n",
       "0       0        0        1        1     280.335  \n",
       "1       0        0        7       11    1658.948  \n",
       "2       0        0       68       36   17364.956  \n",
       "3       1        1       97       27   24667.317  \n",
       "4       0        0       38       38    9649.029  \n",
       "5       1        1       33       10   10021.520  \n",
       "6       0        0        4        7    1119.555  \n",
       "7       0        0        4        5     938.022  \n",
       "8       1        0       11        6    3004.068  \n",
       "9       4        1       67       50   18257.661  "
      ]
     },
     "execution_count": 6,
     "metadata": {},
     "output_type": "execute_result"
    }
   ],
   "source": [
    "uselogdf.head(n=10)"
   ]
  },
  {
   "cell_type": "markdown",
   "metadata": {},
   "source": [
    "# II. Preprocessing the data and calculating features:"
   ]
  },
  {
   "cell_type": "markdown",
   "metadata": {},
   "source": [
    "### Step 1: Merge the member and training data frames, drop registration and expiration dates, and create lookup keys for each user.\n",
    "\n",
    "The first two steps are cleanup. The last is done because I converted both transactions.csv and user_logs.csv into sqlite databases in a python script (run from the command line on my machine). While this makes the files larger, I took this approach for a couple of reasons:\n",
    "* The user_logs.csv file is too large to fit into memory. By querying a database I don't have to read the file into memory.\n",
    "    * I also felt that this was a more easily generalizable framework for data management and updating than the provided csv data given the file size.\n",
    "* Most importantly, I wanted to begin learning to work with database management systems like SQL \n",
    "    * I learned for example the importance of indexing for fast lookups in a medium sized database."
   ]
  },
  {
   "cell_type": "code",
   "execution_count": 7,
   "metadata": {},
   "outputs": [
    {
     "data": {
      "text/html": [
       "<div>\n",
       "<table border=\"1\" class=\"dataframe\">\n",
       "  <thead>\n",
       "    <tr style=\"text-align: right;\">\n",
       "      <th></th>\n",
       "      <th>msno</th>\n",
       "      <th>is_churn</th>\n",
       "      <th>city</th>\n",
       "      <th>bd</th>\n",
       "      <th>gender</th>\n",
       "      <th>registered_via</th>\n",
       "      <th>key1</th>\n",
       "      <th>key2</th>\n",
       "    </tr>\n",
       "  </thead>\n",
       "  <tbody>\n",
       "    <tr>\n",
       "      <th>0</th>\n",
       "      <td>++BQyzVEMoHru900mTyAKpCsKYjXUGdAXylmmiPsbVY=</td>\n",
       "      <td>0</td>\n",
       "      <td>1</td>\n",
       "      <td>0</td>\n",
       "      <td>NaN</td>\n",
       "      <td>7</td>\n",
       "      <td>+</td>\n",
       "      <td>+</td>\n",
       "    </tr>\n",
       "    <tr>\n",
       "      <th>1</th>\n",
       "      <td>+2QopJoFmEqb7AMPTLFy9DyUp6fQCbGTqp5jn13uYzw=</td>\n",
       "      <td>1</td>\n",
       "      <td>1</td>\n",
       "      <td>31</td>\n",
       "      <td>female</td>\n",
       "      <td>4</td>\n",
       "      <td>+</td>\n",
       "      <td>2</td>\n",
       "    </tr>\n",
       "    <tr>\n",
       "      <th>2</th>\n",
       "      <td>+30E3s3duRnFj5RbqvNUrkfXa/Fsz1YPJaIRJKPaYbY=</td>\n",
       "      <td>0</td>\n",
       "      <td>1</td>\n",
       "      <td>0</td>\n",
       "      <td>NaN</td>\n",
       "      <td>7</td>\n",
       "      <td>+</td>\n",
       "      <td>3</td>\n",
       "    </tr>\n",
       "    <tr>\n",
       "      <th>3</th>\n",
       "      <td>+5qnHjPelHKu0ig6ZpApTkphYORmORFAoqyyuvf195g=</td>\n",
       "      <td>1</td>\n",
       "      <td>4</td>\n",
       "      <td>20</td>\n",
       "      <td>male</td>\n",
       "      <td>9</td>\n",
       "      <td>+</td>\n",
       "      <td>5</td>\n",
       "    </tr>\n",
       "    <tr>\n",
       "      <th>4</th>\n",
       "      <td>+8fMR768JncJEPNCl+1GmNXU3jYK1xz/8GeLjp+AUsw=</td>\n",
       "      <td>1</td>\n",
       "      <td>22</td>\n",
       "      <td>20</td>\n",
       "      <td>female</td>\n",
       "      <td>9</td>\n",
       "      <td>+</td>\n",
       "      <td>8</td>\n",
       "    </tr>\n",
       "    <tr>\n",
       "      <th>5</th>\n",
       "      <td>+9283DineWAAuCGyn/spRLqy/qJyg6JZTgR/gZuAPK0=</td>\n",
       "      <td>0</td>\n",
       "      <td>1</td>\n",
       "      <td>0</td>\n",
       "      <td>NaN</td>\n",
       "      <td>7</td>\n",
       "      <td>+</td>\n",
       "      <td>9</td>\n",
       "    </tr>\n",
       "    <tr>\n",
       "      <th>6</th>\n",
       "      <td>+GyoY2MFnlVUY/XGEKvFSn7l0CUOpbNiAZsn+3UR/lw=</td>\n",
       "      <td>0</td>\n",
       "      <td>1</td>\n",
       "      <td>0</td>\n",
       "      <td>NaN</td>\n",
       "      <td>7</td>\n",
       "      <td>+</td>\n",
       "      <td>G</td>\n",
       "    </tr>\n",
       "    <tr>\n",
       "      <th>7</th>\n",
       "      <td>+JnvOurWbmucM5NFTMx91fELyowD48pPgnibDOP43wc=</td>\n",
       "      <td>0</td>\n",
       "      <td>1</td>\n",
       "      <td>0</td>\n",
       "      <td>NaN</td>\n",
       "      <td>7</td>\n",
       "      <td>+</td>\n",
       "      <td>J</td>\n",
       "    </tr>\n",
       "    <tr>\n",
       "      <th>8</th>\n",
       "      <td>+OaUfZKKProsi5q8mnz0+4EvWoADnrovN8rMmw76bFo=</td>\n",
       "      <td>1</td>\n",
       "      <td>10</td>\n",
       "      <td>25</td>\n",
       "      <td>female</td>\n",
       "      <td>3</td>\n",
       "      <td>+</td>\n",
       "      <td>O</td>\n",
       "    </tr>\n",
       "    <tr>\n",
       "      <th>9</th>\n",
       "      <td>+OEF27NTBwduByQz2hujZZt95EV9LvIocPgr01B270A=</td>\n",
       "      <td>0</td>\n",
       "      <td>1</td>\n",
       "      <td>0</td>\n",
       "      <td>NaN</td>\n",
       "      <td>7</td>\n",
       "      <td>+</td>\n",
       "      <td>O</td>\n",
       "    </tr>\n",
       "  </tbody>\n",
       "</table>\n",
       "</div>"
      ],
      "text/plain": [
       "                                           msno  is_churn  city  bd  gender  \\\n",
       "0  ++BQyzVEMoHru900mTyAKpCsKYjXUGdAXylmmiPsbVY=         0     1   0     NaN   \n",
       "1  +2QopJoFmEqb7AMPTLFy9DyUp6fQCbGTqp5jn13uYzw=         1     1  31  female   \n",
       "2  +30E3s3duRnFj5RbqvNUrkfXa/Fsz1YPJaIRJKPaYbY=         0     1   0     NaN   \n",
       "3  +5qnHjPelHKu0ig6ZpApTkphYORmORFAoqyyuvf195g=         1     4  20    male   \n",
       "4  +8fMR768JncJEPNCl+1GmNXU3jYK1xz/8GeLjp+AUsw=         1    22  20  female   \n",
       "5  +9283DineWAAuCGyn/spRLqy/qJyg6JZTgR/gZuAPK0=         0     1   0     NaN   \n",
       "6  +GyoY2MFnlVUY/XGEKvFSn7l0CUOpbNiAZsn+3UR/lw=         0     1   0     NaN   \n",
       "7  +JnvOurWbmucM5NFTMx91fELyowD48pPgnibDOP43wc=         0     1   0     NaN   \n",
       "8  +OaUfZKKProsi5q8mnz0+4EvWoADnrovN8rMmw76bFo=         1    10  25  female   \n",
       "9  +OEF27NTBwduByQz2hujZZt95EV9LvIocPgr01B270A=         0     1   0     NaN   \n",
       "\n",
       "   registered_via key1 key2  \n",
       "0               7    +    +  \n",
       "1               4    +    2  \n",
       "2               7    +    3  \n",
       "3               9    +    5  \n",
       "4               9    +    8  \n",
       "5               7    +    9  \n",
       "6               7    +    G  \n",
       "7               7    +    J  \n",
       "8               3    +    O  \n",
       "9               7    +    O  "
      ]
     },
     "execution_count": 7,
     "metadata": {},
     "output_type": "execute_result"
    }
   ],
   "source": [
    "##Merge the data on user name  (i.e. msno) and see what the final dataframe looks like\n",
    "traindf=pd.merge(traindf,memberdf,on='msno')\n",
    "\n",
    "##Note there are members in the training set not in the member set. The merge process cleans those up for us.\n",
    "\n",
    "##Get rid of registration_init_time and expiration_date which will not be used in this rough draft of the project\n",
    "traindf=traindf.drop(['registration_init_time','expiration_date'],axis=1)\n",
    "\n",
    "##Generate keys for lookup in user_log database\n",
    "traindf['key1']=traindf.msno.str[0]\n",
    "traindf['key2']=traindf.msno.str[1]\n",
    "traindf=traindf.sort_values(by=['key1','key2']).reset_index(drop=True)\n",
    "groupedtrain=traindf.groupby(['key1','key2'])\n",
    "keylist=list(groupedtrain.groups.keys())\n",
    "\n",
    "traindf.head(n=10)"
   ]
  },
  {
   "cell_type": "markdown",
   "metadata": {},
   "source": [
    "### Step 2: Calculate features from the user_log database, normalize, and merge with the preprocessed training data\n",
    "\n",
    "I'll do it here for one set of keys ('+','O'). Currently to calculate features for the full training set from the user_log data takes about 7.5 hours. I am considering ways to improve this. However, already by indexing the database on the first two characters of user name made the problem completeable before this interview."
   ]
  },
  {
   "cell_type": "code",
   "execution_count": 8,
   "metadata": {},
   "outputs": [
    {
     "name": "stdout",
     "output_type": "stream",
     "text": [
      "CPU times: user 364 ms, sys: 676 ms, total: 1.04 s\n",
      "Wall time: 3.55 s\n"
     ]
    }
   ],
   "source": [
    "%%time\n",
    "##Now in order to create features, I need to query the user_logs database I created\n",
    "##from the user_logs csv file with a different python script. \n",
    "##I created an index on the first two characters of the user id (msno) for much faster lookups.\n",
    "\n",
    "db_filename='user_logs.db'\n",
    "\n",
    "##Database stores integers in 8 bit string format. This is a function to convert back\n",
    "intfrombyte = lambda x: int.from_bytes(x,'little')\n",
    "\n",
    "##This converts date string to date object\n",
    "datefromstr = lambda x: datetime.strptime(x,'%M/%d/%Y')\n",
    "intcolnames=['num_25','num_50','num_75','num_985','num_100','num_unq','total_secs']\n",
    "reccolnames=['msno','last_num_25','last_num_50','last_num_75','last_num_985','last_num_100','last_num_unq','last_total_secs']\n",
    "sumcolnames=['msno','rate_25','rate_50','rate_75','rate_985','rate_100','rate_unq','activity','log_rate']\n",
    "\n",
    "##Do the queries for each user in the train dataframe, calculate user log activity features\n",
    "##and store in a summary dataframe\n",
    "summarydf = pd.DataFrame(columns=sumcolnames) \n",
    "\n",
    "def query_my_db(groupid):\n",
    "\n",
    "    with sq3.connect(db_filename) as conn:\n",
    "        cursor= conn.cursor()\n",
    "    \n",
    "       \n",
    "        namelist=list(groupedtrain.get_group(groupid).msno)\n",
    "        key1=groupid[0]\n",
    "        key2=groupid[1]\n",
    "        \n",
    "        placeholder= '?' # For SQLite. See DBAPI paramstyle.\n",
    "        placeholders= ', '.join(placeholder for unused in namelist)\n",
    "        newnamelist=\", \".join( repr(e) for e in namelist )\n",
    "        query=\"\"\" select msno,log_date,num_25,num_50,num_75,num_985,\n",
    "            num_100,num_unq,total_secs from user_logs where key1= '%s' and key2='%s' and msno in (%s)\"\"\" %(key1,key2,newnamelist)\n",
    "        #print(query)\n",
    "        ##Read the queried data into a pandas dataframe for feature calculation. \n",
    "        mydf = pd.read_sql(query, conn)\n",
    "        \n",
    "        mydf[intcolnames]=mydf[intcolnames].applymap(intfrombyte)\n",
    "        mydf['log_date']=mydf['log_date'].apply(datefromstr)\n",
    "            \n",
    "           \n",
    "            \n",
    "     \n",
    "    return namelist, mydf\n",
    "\n",
    "\n",
    "    \n",
    "\n",
    "def add_to_summarydf(namekey):\n",
    "    \n",
    "    subframe=mygroupdf.loc[mygroupdf['msno']==namekey]\n",
    "    if len(subframe['log_date'])>1:\n",
    "        earliest=min(subframe['log_date'])\n",
    "        latest=max(subframe['log_date'])            \n",
    "        days_used=((latest-earliest).days+1)\n",
    "        int_rec_df=subframe.ix[subframe['log_date'].idxmax()]\n",
    "        int_rec_list=[[namekey,int_rec_df.num_25,int_rec_df.num_50,int_rec_df.num_75,int_rec_df.num_985,int_rec_df.num_100,int_rec_df.num_unq,int_rec_df.total_secs]]\n",
    "    else:\n",
    "        days_used=1\n",
    "        int_rec_df=subframe\n",
    "        \n",
    "        if int_rec_df.empty:\n",
    "            int_rec_list=[[namekey,0.0,0.0,0.0,0.0,0.0,0.0,0.0]]\n",
    "        else:\n",
    "            int_rec_list=[[namekey,int_rec_df.num_25.values[0],int_rec_df.num_50.values[0],int_rec_df.num_75.values[0],int_rec_df.num_985.values[0],int_rec_df.num_100.values[0],int_rec_df.num_unq.values[0],int_rec_df.total_secs.values[0]]]\n",
    "    \n",
    "        \n",
    "    int_sum=(subframe[intcolnames].sum())/days_used\n",
    "           \n",
    "    int_sum_list=[[namekey,int_sum[0],int_sum[1],int_sum[2],int_sum[3],int_sum[4],int_sum[5],int_sum[6],len(subframe['msno'])/days_used]]\n",
    "      \n",
    "    int_sum_df=pd.DataFrame(data=int_sum_list,columns=sumcolnames)\n",
    "                  \n",
    "    int_rec_df=pd.DataFrame(data=int_rec_list,columns=reccolnames)\n",
    "    \n",
    "    int_sum_df=pd.merge(int_rec_df,int_sum_df,on='msno',how='inner')\n",
    "    \n",
    "    return int_sum_df\n",
    "\n",
    "num_cores=multiprocessing.cpu_count()\n",
    "\n",
    "##For DEMO!\n",
    "keylist=[('+','O')]\n",
    "\n",
    "for shortkey in keylist:\n",
    "    \n",
    "    names, mygroupdf=query_my_db(shortkey)\n",
    "    \n",
    "    with Pool(processes=num_cores) as pool: \n",
    "    \n",
    "        results=pool.map(add_to_summarydf,names)\n",
    "        \n",
    "        summarydf=summarydf.append(pd.concat(results))"
   ]
  },
  {
   "cell_type": "code",
   "execution_count": 9,
   "metadata": {},
   "outputs": [
    {
     "data": {
      "text/html": [
       "<div>\n",
       "<table border=\"1\" class=\"dataframe\">\n",
       "  <thead>\n",
       "    <tr style=\"text-align: right;\">\n",
       "      <th></th>\n",
       "      <th>activity</th>\n",
       "      <th>last_num_100</th>\n",
       "      <th>last_num_25</th>\n",
       "      <th>last_num_50</th>\n",
       "      <th>last_num_75</th>\n",
       "      <th>last_num_985</th>\n",
       "      <th>last_num_unq</th>\n",
       "      <th>last_total_secs</th>\n",
       "      <th>log_rate</th>\n",
       "      <th>msno</th>\n",
       "      <th>rate_100</th>\n",
       "      <th>rate_25</th>\n",
       "      <th>rate_50</th>\n",
       "      <th>rate_75</th>\n",
       "      <th>rate_985</th>\n",
       "      <th>rate_unq</th>\n",
       "    </tr>\n",
       "  </thead>\n",
       "  <tbody>\n",
       "    <tr>\n",
       "      <th>0</th>\n",
       "      <td>441.533243</td>\n",
       "      <td>5.0</td>\n",
       "      <td>2.0</td>\n",
       "      <td>0.0</td>\n",
       "      <td>2.0</td>\n",
       "      <td>1.0</td>\n",
       "      <td>9.0</td>\n",
       "      <td>1793.0</td>\n",
       "      <td>0.069199</td>\n",
       "      <td>+OaUfZKKProsi5q8mnz0+4EvWoADnrovN8rMmw76bFo=</td>\n",
       "      <td>1.578019</td>\n",
       "      <td>0.301221</td>\n",
       "      <td>0.122117</td>\n",
       "      <td>0.063772</td>\n",
       "      <td>0.063772</td>\n",
       "      <td>1.826323</td>\n",
       "    </tr>\n",
       "    <tr>\n",
       "      <th>0</th>\n",
       "      <td>1944.122208</td>\n",
       "      <td>3.0</td>\n",
       "      <td>1.0</td>\n",
       "      <td>2.0</td>\n",
       "      <td>0.0</td>\n",
       "      <td>3.0</td>\n",
       "      <td>4.0</td>\n",
       "      <td>1620.0</td>\n",
       "      <td>0.283837</td>\n",
       "      <td>+OEF27NTBwduByQz2hujZZt95EV9LvIocPgr01B270A=</td>\n",
       "      <td>6.814717</td>\n",
       "      <td>0.636005</td>\n",
       "      <td>0.215506</td>\n",
       "      <td>0.105125</td>\n",
       "      <td>0.098555</td>\n",
       "      <td>2.622865</td>\n",
       "    </tr>\n",
       "  </tbody>\n",
       "</table>\n",
       "</div>"
      ],
      "text/plain": [
       "      activity  last_num_100  last_num_25  last_num_50  last_num_75  \\\n",
       "0   441.533243           5.0          2.0          0.0          2.0   \n",
       "0  1944.122208           3.0          1.0          2.0          0.0   \n",
       "\n",
       "   last_num_985  last_num_unq  last_total_secs  log_rate  \\\n",
       "0           1.0           9.0           1793.0  0.069199   \n",
       "0           3.0           4.0           1620.0  0.283837   \n",
       "\n",
       "                                           msno  rate_100   rate_25   rate_50  \\\n",
       "0  +OaUfZKKProsi5q8mnz0+4EvWoADnrovN8rMmw76bFo=  1.578019  0.301221  0.122117   \n",
       "0  +OEF27NTBwduByQz2hujZZt95EV9LvIocPgr01B270A=  6.814717  0.636005  0.215506   \n",
       "\n",
       "    rate_75  rate_985  rate_unq  \n",
       "0  0.063772  0.063772  1.826323  \n",
       "0  0.105125  0.098555  2.622865  "
      ]
     },
     "execution_count": 9,
     "metadata": {},
     "output_type": "execute_result"
    }
   ],
   "source": [
    "summarydf"
   ]
  },
  {
   "cell_type": "code",
   "execution_count": 10,
   "metadata": {},
   "outputs": [],
   "source": [
    "newtraindf=pd.merge(summarydf,traindf,on='msno')\n",
    "newtraindf=newtraindf.drop(['key1','key2'],axis=1)\n",
    "\n",
    "max25=max(1,newtraindf['rate_25'].max())\n",
    "max50=max(1,newtraindf['rate_50'].max())\n",
    "max75=max(1,newtraindf['rate_75'].max())\n",
    "max985=max(1,newtraindf['rate_985'].max())\n",
    "max100=max(1,newtraindf['rate_100'].max())\n",
    "maxunq=max(1,newtraindf['rate_unq'].max())\n",
    "maxact=(newtraindf['activity'].max())\n",
    "maxlgr=(newtraindf['log_rate'].max())\n",
    "newtraindf[['rate_25']] = newtraindf[['rate_25']]/(max25)\n",
    "newtraindf[['last_num_25']] = newtraindf[['last_num_25']]/(max25)\n",
    "newtraindf[['rate_50']] = newtraindf[['rate_50']]/(max50)\n",
    "newtraindf[['last_num_50']] = newtraindf[['last_num_50']]/(max50)\n",
    "newtraindf[['rate_75']] = newtraindf[['rate_75']]/(max75)\n",
    "newtraindf[['last_num_75']] = newtraindf[['last_num_75']]/(max75)\n",
    "newtraindf[['rate_985']] = newtraindf[['rate_985']]/(max985)\n",
    "newtraindf[['last_num_985']] = newtraindf[['last_num_985']]/(max985)\n",
    "newtraindf[['rate_100']] = newtraindf[['rate_100']]/(max100)\n",
    "newtraindf[['last_num_100']] = newtraindf[['last_num_100']]/(max100)\n",
    "newtraindf[['rate_unq']] = newtraindf[['rate_unq']]/(maxunq)\n",
    "newtraindf[['last_num_unq']] = newtraindf[['last_num_unq']]/(maxunq)\n",
    "newtraindf[['activity']] = newtraindf[['activity']]/(maxact)\n",
    "newtraindf[['last_total_secs']] = newtraindf[['last_total_secs']]/(maxact)\n",
    "newtraindf[['log_rate']] = newtraindf[['log_rate']]/(maxlgr)"
   ]
  },
  {
   "cell_type": "code",
   "execution_count": 11,
   "metadata": {},
   "outputs": [
    {
     "data": {
      "text/html": [
       "<div>\n",
       "<table border=\"1\" class=\"dataframe\">\n",
       "  <thead>\n",
       "    <tr style=\"text-align: right;\">\n",
       "      <th></th>\n",
       "      <th>activity</th>\n",
       "      <th>last_num_100</th>\n",
       "      <th>last_num_25</th>\n",
       "      <th>last_num_50</th>\n",
       "      <th>last_num_75</th>\n",
       "      <th>last_num_985</th>\n",
       "      <th>last_num_unq</th>\n",
       "      <th>last_total_secs</th>\n",
       "      <th>log_rate</th>\n",
       "      <th>msno</th>\n",
       "      <th>...</th>\n",
       "      <th>rate_25</th>\n",
       "      <th>rate_50</th>\n",
       "      <th>rate_75</th>\n",
       "      <th>rate_985</th>\n",
       "      <th>rate_unq</th>\n",
       "      <th>is_churn</th>\n",
       "      <th>city</th>\n",
       "      <th>bd</th>\n",
       "      <th>gender</th>\n",
       "      <th>registered_via</th>\n",
       "    </tr>\n",
       "  </thead>\n",
       "  <tbody>\n",
       "    <tr>\n",
       "      <th>0</th>\n",
       "      <td>0.227112</td>\n",
       "      <td>0.733706</td>\n",
       "      <td>2.0</td>\n",
       "      <td>0.0</td>\n",
       "      <td>2.0</td>\n",
       "      <td>1.0</td>\n",
       "      <td>3.431363</td>\n",
       "      <td>0.922267</td>\n",
       "      <td>0.2438</td>\n",
       "      <td>+OaUfZKKProsi5q8mnz0+4EvWoADnrovN8rMmw76bFo=</td>\n",
       "      <td>...</td>\n",
       "      <td>0.301221</td>\n",
       "      <td>0.122117</td>\n",
       "      <td>0.063772</td>\n",
       "      <td>0.063772</td>\n",
       "      <td>0.696308</td>\n",
       "      <td>1</td>\n",
       "      <td>10</td>\n",
       "      <td>25</td>\n",
       "      <td>female</td>\n",
       "      <td>3</td>\n",
       "    </tr>\n",
       "    <tr>\n",
       "      <th>1</th>\n",
       "      <td>1.000000</td>\n",
       "      <td>0.440224</td>\n",
       "      <td>1.0</td>\n",
       "      <td>2.0</td>\n",
       "      <td>0.0</td>\n",
       "      <td>3.0</td>\n",
       "      <td>1.525050</td>\n",
       "      <td>0.833281</td>\n",
       "      <td>1.0000</td>\n",
       "      <td>+OEF27NTBwduByQz2hujZZt95EV9LvIocPgr01B270A=</td>\n",
       "      <td>...</td>\n",
       "      <td>0.636005</td>\n",
       "      <td>0.215506</td>\n",
       "      <td>0.105125</td>\n",
       "      <td>0.098555</td>\n",
       "      <td>1.000000</td>\n",
       "      <td>0</td>\n",
       "      <td>1</td>\n",
       "      <td>0</td>\n",
       "      <td>NaN</td>\n",
       "      <td>7</td>\n",
       "    </tr>\n",
       "  </tbody>\n",
       "</table>\n",
       "<p>2 rows × 21 columns</p>\n",
       "</div>"
      ],
      "text/plain": [
       "   activity  last_num_100  last_num_25  last_num_50  last_num_75  \\\n",
       "0  0.227112      0.733706          2.0          0.0          2.0   \n",
       "1  1.000000      0.440224          1.0          2.0          0.0   \n",
       "\n",
       "   last_num_985  last_num_unq  last_total_secs  log_rate  \\\n",
       "0           1.0      3.431363         0.922267    0.2438   \n",
       "1           3.0      1.525050         0.833281    1.0000   \n",
       "\n",
       "                                           msno      ...         rate_25  \\\n",
       "0  +OaUfZKKProsi5q8mnz0+4EvWoADnrovN8rMmw76bFo=      ...        0.301221   \n",
       "1  +OEF27NTBwduByQz2hujZZt95EV9LvIocPgr01B270A=      ...        0.636005   \n",
       "\n",
       "    rate_50   rate_75  rate_985  rate_unq  is_churn  city  bd  gender  \\\n",
       "0  0.122117  0.063772  0.063772  0.696308         1    10  25  female   \n",
       "1  0.215506  0.105125  0.098555  1.000000         0     1   0     NaN   \n",
       "\n",
       "  registered_via  \n",
       "0              3  \n",
       "1              7  \n",
       "\n",
       "[2 rows x 21 columns]"
      ]
     },
     "execution_count": 11,
     "metadata": {},
     "output_type": "execute_result"
    }
   ],
   "source": [
    "newtraindf"
   ]
  },
  {
   "cell_type": "markdown",
   "metadata": {},
   "source": [
    "### Step 3: Repeat step 2, but for feature calculation with the transaction data and clean up the gender and birthday columns\n",
    "\n",
    "Note I could stramline this a bit, but for now I prefer to have separate functions for querying the transaction and user_logs databases."
   ]
  },
  {
   "cell_type": "code",
   "execution_count": 12,
   "metadata": {},
   "outputs": [
    {
     "name": "stdout",
     "output_type": "stream",
     "text": [
      "CPU times: user 41.3 ms, sys: 135 ms, total: 176 ms\n",
      "Wall time: 718 ms\n"
     ]
    }
   ],
   "source": [
    "%%time\n",
    "##Now I need to import data from the user_logs database I created from the user_logs csv file with a different python\n",
    "##script. I created an index on the first two characters of the user id (msno) for much faster lookups.\n",
    "\n",
    "db_filename='transactions.db'\n",
    "\n",
    "intcolnames=['is_auto_renew']\n",
    "autocolnames=['msno','is_auto_renew']\n",
    "\n",
    "##Do the queries for each user in the train dataframe, calculate transaction activity features and store in training dataframe\n",
    "autorenewdf = pd.DataFrame(columns=autocolnames) \n",
    "\n",
    "def query_transaction_db(groupid):\n",
    "\n",
    "    with sq3.connect(db_filename) as conn:\n",
    "        cursor= conn.cursor()\n",
    "    \n",
    "       \n",
    "        namelist=list(groupedtrain.get_group(groupid).msno)\n",
    "        key1=groupid[0]\n",
    "        key2=groupid[1]\n",
    "        \n",
    "        placeholder= '?' # For SQLite. See DBAPI paramstyle.\n",
    "        placeholders= ', '.join(placeholder for unused in namelist)\n",
    "        newnamelist=\", \".join( repr(e) for e in namelist )\n",
    "        query=\"\"\" select msno,is_auto_renew,transaction_date from transactions where key1= '%s' and key2='%s' and msno in (%s)\"\"\" %(key1,key2,newnamelist)\n",
    "        #print(query)\n",
    "        ##Read the queried data into a pandas dataframe for feature calculation. \n",
    "        mydf = pd.read_sql(query, conn)\n",
    "        \n",
    "        mydf[intcolnames]=mydf[intcolnames].applymap(intfrombyte)\n",
    "        mydf['transaction_date']=mydf['transaction_date'].apply(datefromstr)\n",
    "            \n",
    "           \n",
    "            \n",
    "     \n",
    "    return namelist, mydf\n",
    "\n",
    "\n",
    "    \n",
    "\n",
    "def last_autorenew(namekey):\n",
    "    \n",
    "    subframe=mygroupdf.loc[mygroupdf['msno']==namekey]\n",
    "    \n",
    "            \n",
    "    int_auto_df=subframe.ix[subframe['transaction_date'].idxmax()]\n",
    "    \n",
    "    int_auto_df=int_auto_df.drop(['transaction_date'])\n",
    "    \n",
    "    return int_auto_df\n",
    "\n",
    "num_cores=multiprocessing.cpu_count()\n",
    "\n",
    "##For DEMO!\n",
    "keylist=[('+','O')]\n",
    "\n",
    "for shortkey in keylist:\n",
    "    \n",
    "    names, mygroupdf=query_transaction_db(shortkey)\n",
    "    \n",
    "    with Pool(processes=num_cores) as pool: \n",
    "    \n",
    "        results=pool.map(last_autorenew,names)\n",
    "        \n",
    "        autorenewdf=autorenewdf.append(results)"
   ]
  },
  {
   "cell_type": "code",
   "execution_count": 13,
   "metadata": {},
   "outputs": [
    {
     "data": {
      "text/html": [
       "<div>\n",
       "<table border=\"1\" class=\"dataframe\">\n",
       "  <thead>\n",
       "    <tr style=\"text-align: right;\">\n",
       "      <th></th>\n",
       "      <th>msno</th>\n",
       "      <th>is_auto_renew</th>\n",
       "    </tr>\n",
       "  </thead>\n",
       "  <tbody>\n",
       "    <tr>\n",
       "      <th>4</th>\n",
       "      <td>+OaUfZKKProsi5q8mnz0+4EvWoADnrovN8rMmw76bFo=</td>\n",
       "      <td>0.0</td>\n",
       "    </tr>\n",
       "    <tr>\n",
       "      <th>17</th>\n",
       "      <td>+OEF27NTBwduByQz2hujZZt95EV9LvIocPgr01B270A=</td>\n",
       "      <td>1.0</td>\n",
       "    </tr>\n",
       "  </tbody>\n",
       "</table>\n",
       "</div>"
      ],
      "text/plain": [
       "                                            msno  is_auto_renew\n",
       "4   +OaUfZKKProsi5q8mnz0+4EvWoADnrovN8rMmw76bFo=            0.0\n",
       "17  +OEF27NTBwduByQz2hujZZt95EV9LvIocPgr01B270A=            1.0"
      ]
     },
     "execution_count": 13,
     "metadata": {},
     "output_type": "execute_result"
    }
   ],
   "source": [
    "autorenewdf"
   ]
  },
  {
   "cell_type": "code",
   "execution_count": 14,
   "metadata": {},
   "outputs": [],
   "source": [
    "##Merge the new features and clean up the gender and birthday columns\n",
    "newtraindf=pd.merge(newtraindf,autorenewdf,on='msno')\n",
    "newtraindf=newtraindf.replace({'male':0.0,'female':1.0})\n",
    "newtraindf['gender']=newtraindf['gender'].fillna(-1.0)\n",
    "newtraindf[(newtraindf['bd']>=100) & (newtraindf['bd']<=10)] = 0"
   ]
  },
  {
   "cell_type": "code",
   "execution_count": 15,
   "metadata": {},
   "outputs": [
    {
     "data": {
      "text/html": [
       "<div>\n",
       "<table border=\"1\" class=\"dataframe\">\n",
       "  <thead>\n",
       "    <tr style=\"text-align: right;\">\n",
       "      <th></th>\n",
       "      <th>activity</th>\n",
       "      <th>last_num_100</th>\n",
       "      <th>last_num_25</th>\n",
       "      <th>last_num_50</th>\n",
       "      <th>last_num_75</th>\n",
       "      <th>last_num_985</th>\n",
       "      <th>last_num_unq</th>\n",
       "      <th>last_total_secs</th>\n",
       "      <th>log_rate</th>\n",
       "      <th>msno</th>\n",
       "      <th>...</th>\n",
       "      <th>rate_50</th>\n",
       "      <th>rate_75</th>\n",
       "      <th>rate_985</th>\n",
       "      <th>rate_unq</th>\n",
       "      <th>is_churn</th>\n",
       "      <th>city</th>\n",
       "      <th>bd</th>\n",
       "      <th>gender</th>\n",
       "      <th>registered_via</th>\n",
       "      <th>is_auto_renew</th>\n",
       "    </tr>\n",
       "  </thead>\n",
       "  <tbody>\n",
       "    <tr>\n",
       "      <th>0</th>\n",
       "      <td>0.227112</td>\n",
       "      <td>0.733706</td>\n",
       "      <td>2.0</td>\n",
       "      <td>0.0</td>\n",
       "      <td>2.0</td>\n",
       "      <td>1.0</td>\n",
       "      <td>3.431363</td>\n",
       "      <td>0.922267</td>\n",
       "      <td>0.2438</td>\n",
       "      <td>+OaUfZKKProsi5q8mnz0+4EvWoADnrovN8rMmw76bFo=</td>\n",
       "      <td>...</td>\n",
       "      <td>0.122117</td>\n",
       "      <td>0.063772</td>\n",
       "      <td>0.063772</td>\n",
       "      <td>0.696308</td>\n",
       "      <td>1</td>\n",
       "      <td>10</td>\n",
       "      <td>25</td>\n",
       "      <td>1.0</td>\n",
       "      <td>3</td>\n",
       "      <td>0.0</td>\n",
       "    </tr>\n",
       "    <tr>\n",
       "      <th>1</th>\n",
       "      <td>1.000000</td>\n",
       "      <td>0.440224</td>\n",
       "      <td>1.0</td>\n",
       "      <td>2.0</td>\n",
       "      <td>0.0</td>\n",
       "      <td>3.0</td>\n",
       "      <td>1.525050</td>\n",
       "      <td>0.833281</td>\n",
       "      <td>1.0000</td>\n",
       "      <td>+OEF27NTBwduByQz2hujZZt95EV9LvIocPgr01B270A=</td>\n",
       "      <td>...</td>\n",
       "      <td>0.215506</td>\n",
       "      <td>0.105125</td>\n",
       "      <td>0.098555</td>\n",
       "      <td>1.000000</td>\n",
       "      <td>0</td>\n",
       "      <td>1</td>\n",
       "      <td>0</td>\n",
       "      <td>-1.0</td>\n",
       "      <td>7</td>\n",
       "      <td>1.0</td>\n",
       "    </tr>\n",
       "  </tbody>\n",
       "</table>\n",
       "<p>2 rows × 22 columns</p>\n",
       "</div>"
      ],
      "text/plain": [
       "   activity  last_num_100  last_num_25  last_num_50  last_num_75  \\\n",
       "0  0.227112      0.733706          2.0          0.0          2.0   \n",
       "1  1.000000      0.440224          1.0          2.0          0.0   \n",
       "\n",
       "   last_num_985  last_num_unq  last_total_secs  log_rate  \\\n",
       "0           1.0      3.431363         0.922267    0.2438   \n",
       "1           3.0      1.525050         0.833281    1.0000   \n",
       "\n",
       "                                           msno      ...         rate_50  \\\n",
       "0  +OaUfZKKProsi5q8mnz0+4EvWoADnrovN8rMmw76bFo=      ...        0.122117   \n",
       "1  +OEF27NTBwduByQz2hujZZt95EV9LvIocPgr01B270A=      ...        0.215506   \n",
       "\n",
       "    rate_75  rate_985  rate_unq  is_churn  city  bd  gender  registered_via  \\\n",
       "0  0.063772  0.063772  0.696308         1    10  25     1.0               3   \n",
       "1  0.105125  0.098555  1.000000         0     1   0    -1.0               7   \n",
       "\n",
       "   is_auto_renew  \n",
       "0            0.0  \n",
       "1            1.0  \n",
       "\n",
       "[2 rows x 22 columns]"
      ]
     },
     "execution_count": 15,
     "metadata": {},
     "output_type": "execute_result"
    }
   ],
   "source": [
    "newtraindf"
   ]
  },
  {
   "cell_type": "markdown",
   "metadata": {},
   "source": [
    "# III. Exploratory Analysis"
   ]
  },
  {
   "cell_type": "markdown",
   "metadata": {},
   "source": [
    "In this section I present the most interesting aspects of my exploratory analysis. First I will import and split the data into a training and a test set. While a separate test set is available at https://www.kaggle.com/c/kkbox-churn-prediction-challenge/data, for this draft I will not utilize this set. After dividing into training and testing I will subsequently separate data based on user churn status for exploratory analysis of the training set."
   ]
  },
  {
   "cell_type": "code",
   "execution_count": 16,
   "metadata": {},
   "outputs": [],
   "source": [
    "##Import training csv file with activity features \n",
    "newtraindf=pd.read_csv('Training_Features_Updated.csv')\n",
    "newtraindf.head(n=5)\n",
    "\n",
    "#Split into a training and testing set by sampling without replacement\n",
    "trainrows = np.random.rand(len(newtraindf)) < 0.75\n",
    "train = newtraindf[trainrows]\n",
    "test = newtraindf[~trainrows]\n",
    "Xtrain=train.drop(['msno','is_churn'],axis=1)\n",
    "Ytrain=train['is_churn']\n",
    "\n",
    "\n",
    "#Visualize some properties of the training set\n",
    "usezchurn=train[train['is_churn']==0]\n",
    "useochurn=train[train['is_churn']==1]"
   ]
  },
  {
   "cell_type": "markdown",
   "metadata": {},
   "source": [
    "## There is a population imbalance with about 14 times more retained than churned users"
   ]
  },
  {
   "cell_type": "code",
   "execution_count": 17,
   "metadata": {},
   "outputs": [
    {
     "name": "stdout",
     "output_type": "stream",
     "text": [
      "\n",
      " \n",
      " The plot below shows that about 14 times more users are retained than churn.\n"
     ]
    },
    {
     "data": {
      "image/png": "[encoded data removed]",
      "text/plain": [
       "<matplotlib.figure.Figure at 0x111482ac8>"
      ]
     },
     "metadata": {},
     "output_type": "display_data"
    }
   ],
   "source": [
    "print('\\n \\n The plot below shows that about',int(usezchurn.shape[0]/useochurn.shape[0]),'times more users are retained than churn.')\n",
    "bins = np.linspace(0, 1,3)\n",
    "plt.hist(usezchurn['is_churn'],bins,color='blue')\n",
    "plt.hist(useochurn['is_churn'],bins,color='red',alpha=0.5)\n",
    "plt.xlabel('is_churn')\n",
    "plt.ylabel('Absolute Frequency')\n",
    "red_patch = mpatches.Patch(color='red', label='Churned')\n",
    "blue_patch = mpatches.Patch(color='blue', label='Retained')\n",
    "plt.legend(handles=[red_patch,blue_patch],loc='upper right')\n",
    "plt.show()"
   ]
  },
  {
   "cell_type": "markdown",
   "metadata": {},
   "source": [
    "## Churn users are on average younger"
   ]
  },
  {
   "cell_type": "markdown",
   "metadata": {},
   "source": [
    "For the hypothesis test below, users with birthday <10 are ignored. Both groups have a large number of users who do note report accurate birthday data. These users are defined by birthday less than 10 or birthday greater than 100 are set to have birthday=0."
   ]
  },
  {
   "cell_type": "code",
   "execution_count": 18,
   "metadata": {
    "scrolled": false
   },
   "outputs": [
    {
     "name": "stdout",
     "output_type": "stream",
     "text": [
      "The t-test for difference in mean age between churn and retained users gives:\n",
      "Ttest_indResult(statistic=-25.527175423464698, pvalue=2.1077667057649482e-142)\n"
     ]
    },
    {
     "data": {
      "image/png": "[encoded data removed]",
      "text/plain": [
       "<matplotlib.figure.Figure at 0x126413080>"
      ]
     },
     "metadata": {},
     "output_type": "display_data"
    }
   ],
   "source": [
    "usezbadrm=usezchurn[usezchurn['bd']>0]\n",
    "useobadrm=useochurn[useochurn['bd']>0]\n",
    "\n",
    "print(\"The t-test for difference in mean age between churn and retained users gives:\")\n",
    "print(stats.ttest_ind(useobadrm['bd'], usezbadrm['bd'], axis=0, equal_var=False))\n",
    "\n",
    "bins = np.linspace(1, 100, 100)\n",
    "plt.hist(usezchurn['bd'],bins,color='blue',normed=True)\n",
    "plt.hist(useochurn['bd'],bins,color='red',normed=True,alpha=0.5)\n",
    "plt.xlabel('User Age')\n",
    "plt.ylabel('Normalized Frequency')\n",
    "red_patch = mpatches.Patch(color='red', label='Churned')\n",
    "blue_patch = mpatches.Patch(color='blue', label='Retained')\n",
    "plt.legend(handles=[red_patch,blue_patch])\n",
    "plt.show()"
   ]
  },
  {
   "cell_type": "markdown",
   "metadata": {},
   "source": [
    "## Retained users are more likely to use auto renew than churned users"
   ]
  },
  {
   "cell_type": "code",
   "execution_count": 19,
   "metadata": {},
   "outputs": [
    {
     "data": {
      "image/png": "[encoded data removed]",
      "text/plain": [
       "<matplotlib.figure.Figure at 0x1264280f0>"
      ]
     },
     "metadata": {},
     "output_type": "display_data"
    }
   ],
   "source": [
    "bins = np.linspace(0, 1,3)\n",
    "plt.hist(usezchurn['is_auto_renew'],bins,color='blue',normed=True)\n",
    "plt.hist(useochurn['is_auto_renew'],bins,color='red',alpha=0.5,normed=True)\n",
    "plt.xlabel('Auto Renew')\n",
    "plt.ylabel('Normalized Frequency')\n",
    "red_patch = mpatches.Patch(color='red', label='Churned')\n",
    "blue_patch = mpatches.Patch(color='blue', label='Retained')\n",
    "plt.legend(handles=[red_patch,blue_patch],loc='upper left')\n",
    "plt.show()"
   ]
  },
  {
   "cell_type": "markdown",
   "metadata": {},
   "source": [
    "## User activity may be useful with proper variable transformation"
   ]
  },
  {
   "cell_type": "markdown",
   "metadata": {},
   "source": [
    "As a random variable, user activity shows no mean difference for churn and retained users according to a t-test. However, on a log-scale the distributions look somewhat different for high activity. Perhaps this could be useful if the activity variable were suitably transformed?"
   ]
  },
  {
   "cell_type": "code",
   "execution_count": 20,
   "metadata": {},
   "outputs": [
    {
     "name": "stdout",
     "output_type": "stream",
     "text": [
      "Note the log-scale of the y-axis\n"
     ]
    },
    {
     "data": {
      "image/png": "[encoded data removed]",
      "text/plain": [
       "<matplotlib.figure.Figure at 0x117e731d0>"
      ]
     },
     "metadata": {},
     "output_type": "display_data"
    }
   ],
   "source": [
    "print('Note the log-scale of the y-axis')\n",
    "bins = np.linspace(0, 1, 100)\n",
    "plt.hist(np.power(usezchurn['activity'],1),bins,color='blue',normed=True)\n",
    "plt.hist(np.power(useochurn['activity'],1),bins,color='red',alpha=0.5,normed=True)\n",
    "plt.xlabel('User Activity')\n",
    "plt.ylabel('Normalized Frequency')\n",
    "plt.yscale('log')\n",
    "red_patch = mpatches.Patch(color='red', label='Churned')\n",
    "blue_patch = mpatches.Patch(color='blue', label='Retained')\n",
    "plt.legend(handles=[red_patch,blue_patch])\n",
    "plt.show()"
   ]
  },
  {
   "cell_type": "markdown",
   "metadata": {},
   "source": [
    "# IV. Model Development"
   ]
  },
  {
   "cell_type": "markdown",
   "metadata": {},
   "source": [
    "In this section, I will work logistic regression and random forest models for binary classification. I will step through several attempts at model building to demonstrate some important features in building a good model. It should be noted here that this step is realistically premature in the sense that there are many more features that can be calculated."
   ]
  },
  {
   "cell_type": "markdown",
   "metadata": {},
   "source": [
    "### Step 1: Split data for 2-fold cross-validation"
   ]
  },
  {
   "cell_type": "code",
   "execution_count": 21,
   "metadata": {},
   "outputs": [],
   "source": [
    "#Make a validation set\n",
    "mskval = np.random.rand(len(train)) < 0.75\n",
    "trainval=train[mskval]\n",
    "validation=train[~mskval]\n",
    "\n",
    "#Drop user name and create label data frames (NOTE I AM SWITCHING LABELS TO BE CONSISTENT WITH SKLEARN!)\n",
    "Xtrain=trainval.drop(['msno','is_churn'],axis=1)\n",
    "ytrain=(trainval['is_churn']+1)%2\n",
    "Xval=validation.drop(['msno','is_churn'],axis=1)\n",
    "yval=(validation['is_churn']+1)%2\n",
    "\n",
    "Xtrain=np.asarray(Xtrain.as_matrix())\n",
    "ytrain=np.asarray(ytrain.as_matrix())\n",
    "Xval=np.asarray(Xval.as_matrix())\n",
    "yval=np.asarray(yval.as_matrix())"
   ]
  },
  {
   "cell_type": "markdown",
   "metadata": {},
   "source": [
    "### Step 2: Generate logistic regression and random forest models"
   ]
  },
  {
   "cell_type": "code",
   "execution_count": 22,
   "metadata": {},
   "outputs": [],
   "source": [
    "#Create a logistic regression model\n",
    "modelLR=LogisticRegression()\n",
    "modelLR.fit(Xtrain,ytrain)\n",
    "predsLR = modelLR.predict_proba(Xval)[:,1]\n",
    "fprLR, tprLR, _LR = metrics.roc_curve(yval, predsLR)\n",
    "\n",
    "dfLR = pd.DataFrame(dict(fpr=fprLR, tpr=tprLR))\n",
    "\n",
    "#Create a random forest model\n",
    "RFmodel=RandomForestClassifier(n_estimators=1000,random_state=0,n_jobs=-1)\n",
    "RFmodel.fit(Xtrain,ytrain)\n",
    "RFpreds = RFmodel.predict_proba(Xval)[:,1]\n",
    "RFfpr, RFtpr, _ = metrics.roc_curve(yval, RFpreds)\n",
    "dfRF = pd.DataFrame(dict(fpr=RFfpr, tpr=RFtpr))"
   ]
  },
  {
   "cell_type": "code",
   "execution_count": 23,
   "metadata": {},
   "outputs": [
    {
     "name": "stdout",
     "output_type": "stream",
     "text": [
      "[0 0 0 ..., 1 1 1]\n"
     ]
    }
   ],
   "source": [
    "\n",
    "print(yval)"
   ]
  },
  {
   "cell_type": "markdown",
   "metadata": {},
   "source": [
    "### Step 3: Check Model Metrics"
   ]
  },
  {
   "cell_type": "code",
   "execution_count": 24,
   "metadata": {},
   "outputs": [
    {
     "data": {
      "image/png": "[encoded data removed]",
      "text/plain": [
       "<matplotlib.figure.Figure at 0x116f60cf8>"
      ]
     },
     "metadata": {},
     "output_type": "display_data"
    },
    {
     "name": "stdout",
     "output_type": "stream",
     "text": [
      "Area under curve for Logistic Regression: 0.785473066694\n",
      "Log-loss for Logistic Regression: 2.25813985897\n",
      "Area under curve for Random Forest: 0.800451714414\n",
      "Log-loss for Random Forest: 2.19919242394\n"
     ]
    },
    {
     "data": {
      "image/png": "[encoded data removed]",
      "text/plain": [
       "<matplotlib.figure.Figure at 0x113ae1e48>"
      ]
     },
     "metadata": {},
     "output_type": "display_data"
    },
    {
     "name": "stdout",
     "output_type": "stream",
     "text": [
      "Sensitivity is: 0.999993501936\n",
      "Specificity is: 9.28936367859e-05\n",
      "Positive Predictive Value is: 0.934626947253\n",
      "Negative Predictive Value is: 0.5\n",
      "Accuracy is: 0.934621668074\n"
     ]
    },
    {
     "data": {
      "image/png": "[encoded data removed]",
      "text/plain": [
       "<matplotlib.figure.Figure at 0x1195ceef0>"
      ]
     },
     "metadata": {},
     "output_type": "display_data"
    },
    {
     "name": "stdout",
     "output_type": "stream",
     "text": [
      "Sensitivity is: 0.996036181218\n",
      "Specificity is: 0.0827682303762\n",
      "Positive Predictive Value is: 0.939481232685\n",
      "Negative Predictive Value is: 0.593604263824\n",
      "Accuracy is: 0.93632824599\n"
     ]
    }
   ],
   "source": [
    "## Define a few metrics\n",
    "def Sensitivity(confmat):\n",
    "    val=confmat[1,1]/(confmat[1,1]+confmat[1,0])\n",
    "    return val\n",
    "\n",
    "def Specificity(confmat):\n",
    "    val=confmat[0,0]/(confmat[0,0]+confmat[0,1])\n",
    "    return val\n",
    "    \n",
    "def PPV(confmat):\n",
    "    val=confmat[1,1]/(confmat[1,1]+confmat[0,1])\n",
    "    return val\n",
    "\n",
    "def NPV(confmat):\n",
    "    val=confmat[0,0]/(confmat[1,0]+confmat[0,0])  \n",
    "    return val\n",
    "\n",
    "def Accuracy(confmat):\n",
    "    val=(confmat[0,0]+confmat[1,1])/(confmat[0,0]+confmat[1,1]+confmat[1,0]+confmat[0,1])  \n",
    "    return val\n",
    "    \n",
    "#Plot the ROC for each\n",
    "plt.plot(dfLR['fpr'],dfLR['tpr'],color='green');\n",
    "plt.plot(dfRF['fpr'],dfRF['tpr'],color='blue');\n",
    "green_patch = mpatches.Patch(color='green', label='Logistic Regression')\n",
    "blue_patch = mpatches.Patch(color='blue', label='Random Forest')\n",
    "plt.legend(handles=[green_patch,blue_patch],loc='upper left')\n",
    "plt.show()\n",
    "\n",
    "#Take a look at the confusion matrix and calculate a few statistics\n",
    "Xtest=test.drop(['msno','is_churn'],axis=1)\n",
    "Ytest=test['is_churn']\n",
    "\n",
    "yLRpred=modelLR.predict(Xval)\n",
    "\n",
    "yRFpred=RFmodel.predict(Xval)\n",
    "\n",
    "\n",
    "\n",
    "\n",
    "aucLR = metrics.auc(fprLR,tprLR)\n",
    "loglossLR=metrics.log_loss(yval,yLRpred)\n",
    "aucRF = metrics.auc(RFfpr,RFtpr)\n",
    "loglossRF=metrics.log_loss(yval,yRFpred)\n",
    "\n",
    "print(\"Area under curve for Logistic Regression:\", aucLR)\n",
    "print(\"Log-loss for Logistic Regression:\",loglossLR)\n",
    "print(\"Area under curve for Random Forest:\", aucRF)\n",
    "print(\"Log-loss for Random Forest:\",loglossRF)\n",
    "\n",
    "matLR=confusion_matrix(yval,yLRpred)\n",
    "seaborn.heatmap(matLR,square=True,annot=True,cbar=False,xticklabels=['Churned','Retained'],yticklabels=['Churned','Retained'])\n",
    "plt.xlabel('predicted label')\n",
    "plt.ylabel('true label')\n",
    "plt.show()\n",
    "\n",
    "\n",
    "print(\"Sensitivity is:\",Sensitivity(matLR))\n",
    "\n",
    "print(\"Specificity is:\",Specificity(matLR))\n",
    "\n",
    "print(\"Positive Predictive Value is:\",PPV(matLR))\n",
    "\n",
    "print(\"Negative Predictive Value is:\",NPV(matLR))\n",
    "\n",
    "print(\"Accuracy is:\",Accuracy(matLR))\n",
    "\n",
    "\n",
    "\n",
    "matRF=confusion_matrix(yval,yRFpred)\n",
    "seaborn.heatmap(matRF,square=True,annot=True,cbar=False,xticklabels=['Churned','Retained'],yticklabels=['Churned','Retained'])\n",
    "plt.xlabel('predicted label')\n",
    "plt.ylabel('true label')\n",
    "plt.show()                                                                                                                                                                                                                                                                                                                                                                                                                                                                                                                        \n",
    "\n",
    "print(\"Sensitivity is:\",Sensitivity(matRF))\n",
    "\n",
    "print(\"Specificity is:\",Specificity(matRF))\n",
    "\n",
    "print(\"Positive Predictive Value is:\",PPV(matRF))\n",
    "\n",
    "print(\"Negative Predictive Value is:\",NPV(matRF))\n",
    "\n",
    "print(\"Accuracy is:\",Accuracy(matRF))"
   ]
  },
  {
   "cell_type": "markdown",
   "metadata": {},
   "source": [
    "### Step 4: Refine the model\n",
    "\n",
    "It is important when model building to choose appropriate metrics given the problem at hand. For example, here, due to the population imbalance, resonable accuracy of about 14/15~0.93 (the ratio of retained to total population) can be expected by just saying all users are retained. This is almost exactly the accuracy achieved in both models which is a cause for immediate concern. In the above, random forest performs better than logistic regression. However, neither exhibit particularly good negative predictive value. Below, the two proceedures of oversampling the minority population and undersampling the majority population in the training data are compared. Note that until a model is chosen, the test set is not employed!"
   ]
  },
  {
   "cell_type": "markdown",
   "metadata": {},
   "source": [
    "#### Oversampling the minority population to get 1:1 ratio"
   ]
  },
  {
   "cell_type": "code",
   "execution_count": 25,
   "metadata": {},
   "outputs": [],
   "source": [
    "##Oversample to create a more balanced population. Here I will try to get population close to say 1:1.\n",
    "## I don't oversample the validation set to get more acurate out of sample metrics\n",
    "\n",
    "##First split into churn and retained\n",
    "usezchurn=trainval[trainval['is_churn']==0]\n",
    "useochurn=trainval[trainval['is_churn']==1]\n",
    "\n",
    "useochurnosamp=useochurn.sample(n=int(usezchurn.shape[0]),replace=True)\n",
    "\n",
    "trainosamp=useochurnosamp.append(usezchurn)\n",
    "\n",
    "#Drop user name and create label data frames\n",
    "Xosamptrain=trainosamp.drop(['msno','is_churn'],axis=1)\n",
    "yosamptrain=(trainosamp['is_churn']+1)%2\n",
    "Xosampval=validation.drop(['msno','is_churn'],axis=1)\n",
    "yosampval=(validation['is_churn']+1)%2\n",
    "\n",
    "Xosamptrain=np.asarray(Xosamptrain.as_matrix())\n",
    "yosamptrain=np.asarray(yosamptrain.as_matrix())\n",
    "Xosampval=np.asarray(Xosampval.as_matrix())\n",
    "yosampval=np.asarray(yosampval.as_matrix())"
   ]
  },
  {
   "cell_type": "markdown",
   "metadata": {},
   "source": [
    "#### Generate models"
   ]
  },
  {
   "cell_type": "code",
   "execution_count": 26,
   "metadata": {},
   "outputs": [],
   "source": [
    "#Create a logistic regression model\n",
    "osampmodelLR=LogisticRegression()\n",
    "osampmodelLR.fit(Xosamptrain,yosamptrain)\n",
    "osamppredsLR = osampmodelLR.predict_proba(Xosampval)[:,1]\n",
    "osampfprLR, osamptprLR, osamp_LR = metrics.roc_curve(yosampval, osamppredsLR)\n",
    "\n",
    "osampdfLR = pd.DataFrame(dict(fpr=osampfprLR, tpr=osamptprLR))\n",
    "\n",
    "#Create a random forest model\n",
    "osampmodel=RandomForestClassifier(n_estimators=1000,random_state=0,n_jobs=-1)\n",
    "osampmodel.fit(Xosamptrain,yosamptrain)\n",
    "osampRFpreds = osampmodel.predict_proba(Xosampval)[:,1]\n",
    "osampRFfpr, osampRFtpr, osampRF_ = metrics.roc_curve(yosampval, osampRFpreds)\n",
    "\n",
    "osampRFdf = pd.DataFrame(dict(fpr=osampRFfpr, tpr=osampRFtpr))"
   ]
  },
  {
   "cell_type": "code",
   "execution_count": 27,
   "metadata": {},
   "outputs": [
    {
     "data": {
      "image/png": "[encoded data removed]",
      "text/plain": [
       "<matplotlib.figure.Figure at 0x119e19ac8>"
      ]
     },
     "metadata": {},
     "output_type": "display_data"
    },
    {
     "name": "stdout",
     "output_type": "stream",
     "text": [
      "Area under curve for Logistic Regression: 0.786723745641\n",
      "Log-loss for Logistic Regression: 3.83383954832\n",
      "Area under curve for Random Forest: 0.797175744786\n",
      "Log-loss for Random Forest: 2.30323050924\n"
     ]
    },
    {
     "data": {
      "image/png": "[encoded data removed]",
      "text/plain": [
       "<matplotlib.figure.Figure at 0x119acba58>"
      ]
     },
     "metadata": {},
     "output_type": "display_data"
    },
    {
     "name": "stdout",
     "output_type": "stream",
     "text": [
      "Sensitivity is: 0.908071894575\n",
      "Specificity is: 0.616349280074\n",
      "Positive Predictive Value is: 0.971294526499\n",
      "Negative Predictive Value is: 0.319266673082\n",
      "Accuracy is: 0.888999556654\n"
     ]
    },
    {
     "data": {
      "image/png": "[encoded data removed]",
      "text/plain": [
       "<matplotlib.figure.Figure at 0x11a24ca20>"
      ]
     },
     "metadata": {},
     "output_type": "display_data"
    },
    {
     "name": "stdout",
     "output_type": "stream",
     "text": [
      "Sensitivity is: 0.987660177267\n",
      "Specificity is: 0.156432884347\n",
      "Positive Predictive Value is: 0.943622186076\n",
      "Negative Predictive Value is: 0.469997209043\n",
      "Accuracy is: 0.933315923404\n"
     ]
    }
   ],
   "source": [
    "#Plot the ROC for each\n",
    "plt.plot(osampdfLR['fpr'],osampdfLR['tpr'],color='green');\n",
    "plt.plot(osampRFdf['fpr'],osampRFdf['tpr'],color='blue');\n",
    "green_patch = mpatches.Patch(color='green', label='Logistic Regression')\n",
    "blue_patch = mpatches.Patch(color='blue', label='Random Forest')\n",
    "plt.legend(handles=[green_patch,blue_patch],loc='upper left')\n",
    "plt.show()\n",
    "\n",
    "yoLRpred=osampmodelLR.predict(Xosampval)\n",
    "\n",
    "yoRFpred=osampmodel.predict(Xosampval)\n",
    "\n",
    "\n",
    "oaucLR = metrics.auc(osampfprLR,osamptprLR)\n",
    "ologlossLR=metrics.log_loss(yosampval,yoLRpred)\n",
    "oaucRF = metrics.auc(osampRFfpr,osampRFtpr)\n",
    "ologlossRF=metrics.log_loss(yosampval,yoRFpred)\n",
    "\n",
    "print(\"Area under curve for Logistic Regression:\", oaucLR)\n",
    "print(\"Log-loss for Logistic Regression:\",ologlossLR)\n",
    "print(\"Area under curve for Random Forest:\", oaucRF)\n",
    "print(\"Log-loss for Random Forest:\",ologlossRF)\n",
    "\n",
    "\n",
    "matoLR=confusion_matrix(yosampval,yoLRpred)\n",
    "seaborn.heatmap(matoLR,square=True,annot=True,cbar=False,xticklabels=['Churned','Retained'],yticklabels=['Churned','Retained'])\n",
    "plt.xlabel('predicted label')\n",
    "plt.ylabel('true label')\n",
    "plt.show()\n",
    "\n",
    "print(\"Sensitivity is:\",Sensitivity(matoLR))\n",
    "\n",
    "print(\"Specificity is:\",Specificity(matoLR))\n",
    "\n",
    "print(\"Positive Predictive Value is:\",PPV(matoLR))\n",
    "\n",
    "print(\"Negative Predictive Value is:\",NPV(matoLR))\n",
    "\n",
    "print(\"Accuracy is:\",Accuracy(matoLR))\n",
    "\n",
    "\n",
    "\n",
    "matoRF=confusion_matrix(yosampval,yoRFpred)\n",
    "seaborn.heatmap(matoRF,square=True,annot=True,cbar=False,xticklabels=['Churned','Retained'],yticklabels=['Churned','Retained'])\n",
    "plt.xlabel('predicted label')\n",
    "plt.ylabel('true label')\n",
    "plt.show()                                                                                                                                                                                                                                                                                                                                                                                                                                                                                                                        \n",
    "\n",
    "print(\"Sensitivity is:\",Sensitivity(matoRF))\n",
    "\n",
    "print(\"Specificity is:\",Specificity(matoRF))\n",
    "\n",
    "print(\"Positive Predictive Value is:\",PPV(matoRF))\n",
    "\n",
    "print(\"Negative Predictive Value is:\",NPV(matoRF))\n",
    "\n",
    "print(\"Accuracy is:\",Accuracy(matoRF))"
   ]
  },
  {
   "cell_type": "markdown",
   "metadata": {},
   "source": [
    "#### Undersample the majority population"
   ]
  },
  {
   "cell_type": "code",
   "execution_count": 28,
   "metadata": {},
   "outputs": [],
   "source": [
    "##Undersample to create a more balanced population. Here I will try to get population close to say 1:1.\n",
    "## I don't oversample the validation set to get more acurate out of sample metrics\n",
    "\n",
    "usezchurnusamp=usezchurn.sample(n=int(useochurn.shape[0]),replace=False)\n",
    "\n",
    "trainusamp=usezchurnusamp.append(useochurn)\n",
    "\n",
    "#Drop user name and create label data frames\n",
    "Xusamptrain=trainusamp.drop(['msno','is_churn'],axis=1)\n",
    "yusamptrain=(trainusamp['is_churn']+1)%2\n",
    "Xusampval=validation.drop(['msno','is_churn'],axis=1)\n",
    "yusampval=(validation['is_churn']+1)%2\n",
    "\n",
    "Xusamptrain=np.asarray(Xusamptrain.as_matrix())\n",
    "yusamptrain=np.asarray(yusamptrain.as_matrix())\n",
    "Xusampval=np.asarray(Xusampval.as_matrix())\n",
    "yusampval=np.asarray(yusampval.as_matrix())"
   ]
  },
  {
   "cell_type": "markdown",
   "metadata": {},
   "source": [
    "#### Generate models"
   ]
  },
  {
   "cell_type": "code",
   "execution_count": 29,
   "metadata": {},
   "outputs": [],
   "source": [
    "#Create a logistic regression model\n",
    "usampmodelLR=LogisticRegression()\n",
    "usampmodelLR.fit(Xusamptrain,yusamptrain)\n",
    "usamppredsLR = usampmodelLR.predict_proba(Xusampval)[:,1]\n",
    "usampfprLR, usamptprLR, usamp_LR = metrics.roc_curve(yusampval, usamppredsLR)\n",
    "\n",
    "usampdfLR = pd.DataFrame(dict(fpr=usampfprLR, tpr=usamptprLR))\n",
    "\n",
    "#Create a random forest model\n",
    "usampmodel=RandomForestClassifier(n_estimators=1000,random_state=0,n_jobs=-1)\n",
    "usampmodel.fit(Xusamptrain,yusamptrain)\n",
    "usampRFpreds = usampmodel.predict_proba(Xusampval)[:,1]\n",
    "usampRFfpr, usampRFtpr, usampRF_ = metrics.roc_curve(yusampval, usampRFpreds)\n",
    "\n",
    "usampRFdf = pd.DataFrame(dict(fpr=usampRFfpr, tpr=usampRFtpr))"
   ]
  },
  {
   "cell_type": "code",
   "execution_count": 30,
   "metadata": {},
   "outputs": [
    {
     "data": {
      "image/png": "[encoded data removed]",
      "text/plain": [
       "<matplotlib.figure.Figure at 0x119a919e8>"
      ]
     },
     "metadata": {},
     "output_type": "display_data"
    },
    {
     "name": "stdout",
     "output_type": "stream",
     "text": [
      "Area under curve for Logistic Regression: 0.784905591074\n",
      "Log-loss for Logistic Regression: 3.83383954832\n",
      "Area under curve for Random Forest: 0.803626405095\n",
      "Log-loss for Random Forest: 2.30323050924\n"
     ]
    },
    {
     "data": {
      "image/png": "[encoded data removed]",
      "text/plain": [
       "<matplotlib.figure.Figure at 0x115088cf8>"
      ]
     },
     "metadata": {},
     "output_type": "display_data"
    },
    {
     "name": "stdout",
     "output_type": "stream",
     "text": [
      "Sensitivity is: 0.908071894575\n",
      "Specificity is: 0.616349280074\n",
      "Positive Predictive Value is: 0.971294526499\n",
      "Negative Predictive Value is: 0.319266673082\n",
      "Accuracy is: 0.888999556654\n"
     ]
    },
    {
     "data": {
      "image/png": "[encoded data removed]",
      "text/plain": [
       "<matplotlib.figure.Figure at 0x11a52e208>"
      ]
     },
     "metadata": {},
     "output_type": "display_data"
    },
    {
     "name": "stdout",
     "output_type": "stream",
     "text": [
      "Sensitivity is: 0.987660177267\n",
      "Specificity is: 0.156432884347\n",
      "Positive Predictive Value is: 0.943622186076\n",
      "Negative Predictive Value is: 0.469997209043\n",
      "Accuracy is: 0.933315923404\n"
     ]
    }
   ],
   "source": [
    "#Plot the ROC for each\n",
    "plt.plot(usampdfLR['fpr'],usampdfLR['tpr'],color='green');\n",
    "plt.plot(usampRFdf['fpr'],usampRFdf['tpr'],color='blue');\n",
    "green_patch = mpatches.Patch(color='green', label='Logistic Regression')\n",
    "blue_patch = mpatches.Patch(color='blue', label='Random Forest')\n",
    "plt.legend(handles=[green_patch,blue_patch],loc='upper left')\n",
    "plt.show()\n",
    "\n",
    "yuLRpred=osampmodelLR.predict(Xusampval)\n",
    "\n",
    "yuRFpred=osampmodel.predict(Xusampval)\n",
    "\n",
    "\n",
    "uaucLR = metrics.auc(usampfprLR,usamptprLR)\n",
    "uloglossLR=metrics.log_loss(yusampval,yuLRpred)\n",
    "uaucRF = metrics.auc(usampRFfpr,usampRFtpr)\n",
    "uloglossRF=metrics.log_loss(yusampval,yuRFpred)\n",
    "\n",
    "print(\"Area under curve for Logistic Regression:\", uaucLR)\n",
    "print(\"Log-loss for Logistic Regression:\",uloglossLR)\n",
    "print(\"Area under curve for Random Forest:\", uaucRF)\n",
    "print(\"Log-loss for Random Forest:\",uloglossRF)\n",
    "\n",
    "\n",
    "matuLR=confusion_matrix(yosampval,yuLRpred)\n",
    "seaborn.heatmap(matuLR,square=True,annot=True,cbar=False)\n",
    "plt.xlabel('predicted label')\n",
    "plt.ylabel('true label')\n",
    "plt.show()\n",
    "\n",
    "print(\"Sensitivity is:\",Sensitivity(matuLR))\n",
    "\n",
    "print(\"Specificity is:\",Specificity(matuLR))\n",
    "\n",
    "print(\"Positive Predictive Value is:\",PPV(matuLR))\n",
    "\n",
    "print(\"Negative Predictive Value is:\",NPV(matuLR))\n",
    "\n",
    "print(\"Accuracy is:\",Accuracy(matuLR))\n",
    "\n",
    "\n",
    "\n",
    "matuRF=confusion_matrix(yusampval,yuRFpred)\n",
    "seaborn.heatmap(matuRF,square=True,annot=True,cbar=False)\n",
    "plt.xlabel('predicted label')\n",
    "plt.ylabel('true label')\n",
    "plt.show()                                                                                                                                                                                                                                                                                                                                                                                                                                                                                                                        \n",
    "\n",
    "print(\"Sensitivity is:\",Sensitivity(matuRF))\n",
    "\n",
    "print(\"Specificity is:\",Specificity(matuRF))\n",
    "\n",
    "print(\"Positive Predictive Value is:\",PPV(matuRF))\n",
    "\n",
    "print(\"Negative Predictive Value is:\",NPV(matuRF))\n",
    "\n",
    "print(\"Accuracy is:\",Accuracy(matuRF))"
   ]
  },
  {
   "cell_type": "markdown",
   "metadata": {},
   "source": [
    "# Conclusion and Outlook"
   ]
  },
  {
   "cell_type": "markdown",
   "metadata": {},
   "source": [
    "Currently the model accuracy is consistent with efffectively all users being classified as retained. While in some cases, the model gives an estimated Negative predictive value of ~0.5, this is not very good. However, the poor performance of the model is likely first and foremost due to a lack of features in the training data. The next step proposed is to calculate significantly more features for use in training the model. Population imbalance will likely remain an issue, and the methods of over and undersampling discussed will be revisited after updating the trainging set with additional features. In addition, more data has recently become available, and may improve model accuracy. This data will be incorporated after the next round of feature engineering.  "
   ]
  }
 ],
 "metadata": {
  "kernelspec": {
   "display_name": "Python 3",
   "language": "python",
   "name": "python3"
  },
  "language_info": {
   "codemirror_mode": {
    "name": "ipython",
    "version": 3
   },
   "file_extension": ".py",
   "mimetype": "text/x-python",
   "name": "python",
   "nbconvert_exporter": "python",
   "pygments_lexer": "ipython3",
   "version": "3.5.2"
  }
 },
 "nbformat": 4,
 "nbformat_minor": 2
}
